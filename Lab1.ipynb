{
  "nbformat": 4,
  "nbformat_minor": 0,
  "metadata": {
    "colab": {
      "provenance": [],
      "authorship_tag": "ABX9TyPQnpS0fpNbyDqXeB69pXWc",
      "include_colab_link": true
    },
    "kernelspec": {
      "name": "python3",
      "display_name": "Python 3"
    },
    "language_info": {
      "name": "python"
    }
  },
  "cells": [
    {
      "cell_type": "markdown",
      "metadata": {
        "id": "view-in-github",
        "colab_type": "text"
      },
      "source": [
        "<a href=\"https://colab.research.google.com/github/niikun/DL_for_health_care/blob/main/Lab1.ipynb\" target=\"_parent\"><img src=\"https://colab.research.google.com/assets/colab-badge.svg\" alt=\"Open In Colab\"/></a>"
      ]
    },
    {
      "cell_type": "code",
      "execution_count": null,
      "metadata": {
        "id": "xrnrxIy9BF4n"
      },
      "outputs": [],
      "source": []
    },
    {
      "cell_type": "markdown",
      "source": [
        "# Lab1\n",
        "この最初のラボでは、Tensors、Loss、Autogradを含むPyTorchの基礎を紹介します。うまくいけば、PyTorchに慣れ始めるでしょう。最後に、いくつかの合成データを使ってsratchから線形回帰モデルを実装します。\n",
        "Table of Contents\n",
        "- Tensors\n",
        "- Loss\n",
        "- Autograd\n",
        "- Assignment\n"
      ],
      "metadata": {
        "id": "ppBjYMgUBPtb"
      }
    },
    {
      "cell_type": "code",
      "source": [
        "import os\n",
        "import torch\n",
        "import numpy as np\n",
        "import matplotlib.pyplot as plt\n",
        "import random"
      ],
      "metadata": {
        "id": "L77MA3yXCMIJ"
      },
      "execution_count": 1,
      "outputs": []
    },
    {
      "cell_type": "code",
      "source": [
        "#set seed\n",
        "seed = 42\n",
        "random.seed(seed)\n",
        "np.random.seed(seed)\n",
        "torch.manual_seed(seed)\n",
        "os.environ[\"PYTHONHASHSEED\"]=str(seed)"
      ],
      "metadata": {
        "id": "Et5f1ytRCLjF"
      },
      "execution_count": 2,
      "outputs": []
    },
    {
      "cell_type": "markdown",
      "source": [
        "## Tensor"
      ],
      "metadata": {
        "id": "8NFvejR7Bt9o"
      }
    },
    {
      "cell_type": "markdown",
      "source": [
        "### 1.1 Initializing Tensor"
      ],
      "metadata": {
        "id": "wj35KDWMDZuO"
      }
    },
    {
      "cell_type": "markdown",
      "source": [
        "- Directly from data"
      ],
      "metadata": {
        "id": "OLPTTYSgDzFX"
      }
    },
    {
      "cell_type": "code",
      "source": [
        "data = [[1,2],[3,4]]\n",
        "x_data = torch.tensor(data)\n",
        "x_data"
      ],
      "metadata": {
        "colab": {
          "base_uri": "https://localhost:8080/"
        },
        "id": "jhShltLVDAaz",
        "outputId": "7a23fb18-d706-4b54-ad1c-e938ec950eac"
      },
      "execution_count": 3,
      "outputs": [
        {
          "output_type": "execute_result",
          "data": {
            "text/plain": [
              "tensor([[1, 2],\n",
              "        [3, 4]])"
            ]
          },
          "metadata": {},
          "execution_count": 3
        }
      ]
    },
    {
      "cell_type": "markdown",
      "source": [
        "- from a numpy array"
      ],
      "metadata": {
        "id": "pQwkWsUJD6pW"
      }
    },
    {
      "cell_type": "code",
      "source": [
        "np_array = np.array(data)\n",
        "x_np = torch.from_numpy(np_array)\n",
        "x_np"
      ],
      "metadata": {
        "colab": {
          "base_uri": "https://localhost:8080/"
        },
        "id": "fWboH_P5DAPr",
        "outputId": "7dd0ea5f-a85d-4631-e4d5-8c0b42f84893"
      },
      "execution_count": 4,
      "outputs": [
        {
          "output_type": "execute_result",
          "data": {
            "text/plain": [
              "tensor([[1, 2],\n",
              "        [3, 4]])"
            ]
          },
          "metadata": {},
          "execution_count": 4
        }
      ]
    },
    {
      "cell_type": "markdown",
      "source": [
        "- from another tensor"
      ],
      "metadata": {
        "id": "G8-33OFZERZI"
      }
    },
    {
      "cell_type": "code",
      "source": [
        "x_ones = torch.ones_like(x_data)\n",
        "print(f\"ones tensor :\\n {x_ones} \\n\")\n",
        "\n",
        "x_rand = torch.rand_like(x_data, dtype=torch.float)\n",
        "print(f\"random tensor :\\n {x_rand} \\n\")"
      ],
      "metadata": {
        "colab": {
          "base_uri": "https://localhost:8080/"
        },
        "id": "GZnzpPciEVN0",
        "outputId": "6e008c81-fb8d-41ea-d674-9ba6912a0887"
      },
      "execution_count": 5,
      "outputs": [
        {
          "output_type": "stream",
          "name": "stdout",
          "text": [
            "ones tensor :\n",
            " tensor([[1, 1],\n",
            "        [1, 1]]) \n",
            "\n",
            "random tensor :\n",
            " tensor([[0.8823, 0.9150],\n",
            "        [0.3829, 0.9593]]) \n",
            "\n"
          ]
        }
      ]
    },
    {
      "cell_type": "markdown",
      "source": [
        "- with random or constant values:"
      ],
      "metadata": {
        "id": "t9C0NO0FFVuv"
      }
    },
    {
      "cell_type": "code",
      "source": [
        "shape = (2,3)\n",
        "rand_tensor=torch.rand(shape)\n",
        "ones_tensor = torch.ones(shape)\n",
        "zeros_tensor = torch.zeros(shape)\n",
        "\n",
        "print(f\"random tensor :\\n {rand_tensor} \\n\")\n",
        "print(f\"ones tensor :\\n {ones_tensor} \\n\")\n",
        "print(f\"zeros tensor \\n {zeros_tensor}\\n\")"
      ],
      "metadata": {
        "colab": {
          "base_uri": "https://localhost:8080/"
        },
        "id": "cTrUqFQSFf2I",
        "outputId": "8ae3c489-b7cd-4e17-d073-d448c9bf4568"
      },
      "execution_count": 6,
      "outputs": [
        {
          "output_type": "stream",
          "name": "stdout",
          "text": [
            "random tensor :\n",
            " tensor([[0.3904, 0.6009, 0.2566],\n",
            "        [0.7936, 0.9408, 0.1332]]) \n",
            "\n",
            "ones tensor :\n",
            " tensor([[1., 1., 1.],\n",
            "        [1., 1., 1.]]) \n",
            "\n",
            "zeros tensor \n",
            " tensor([[0., 0., 0.],\n",
            "        [0., 0., 0.]])\n",
            "\n"
          ]
        }
      ]
    },
    {
      "cell_type": "markdown",
      "source": [
        "### 1.2 Attributes of a tensor"
      ],
      "metadata": {
        "id": "jDMPVa0DBMkl"
      }
    },
    {
      "cell_type": "code",
      "source": [
        "tensor = torch.rand(3,4)\n",
        "print(f\"shape of tensor : {tensor.shape}\")\n",
        "print(f\"data type of tensor : {tensor.dtype}\")\n",
        "print(f\"device tensor is stored on : {tensor.device}\")"
      ],
      "metadata": {
        "colab": {
          "base_uri": "https://localhost:8080/"
        },
        "id": "PHGIzYoxGpOn",
        "outputId": "1ce6d86e-1517-4572-e202-6a5413d1db42"
      },
      "execution_count": 7,
      "outputs": [
        {
          "output_type": "stream",
          "name": "stdout",
          "text": [
            "shape of tensor : torch.Size([3, 4])\n",
            "data type of tensor : torch.float32\n",
            "device tensor is stored on : cpu\n"
          ]
        }
      ]
    },
    {
      "cell_type": "markdown",
      "source": [
        "### 1.3 operations on tensors"
      ],
      "metadata": {
        "id": "mqrQ3vWiHEWj"
      }
    },
    {
      "cell_type": "markdown",
      "source": [
        "- Standard numpy-like indexing and slicing:"
      ],
      "metadata": {
        "id": "D0XzZ_nUIDtS"
      }
    },
    {
      "cell_type": "code",
      "source": [
        "tensor = torch.arange(12).reshape(3,4).float()\n",
        "print(tensor)\n",
        "print(\"first row\",tensor[0])\n",
        "print(\"first columns\",tensor[:,0])\n",
        "print(\"last columns\",tensor[:,-1])"
      ],
      "metadata": {
        "colab": {
          "base_uri": "https://localhost:8080/"
        },
        "id": "oOx6nqPoGpLj",
        "outputId": "0238894a-de2c-43b0-cdd5-bd31c40b56bd"
      },
      "execution_count": 8,
      "outputs": [
        {
          "output_type": "stream",
          "name": "stdout",
          "text": [
            "tensor([[ 0.,  1.,  2.,  3.],\n",
            "        [ 4.,  5.,  6.,  7.],\n",
            "        [ 8.,  9., 10., 11.]])\n",
            "first row tensor([0., 1., 2., 3.])\n",
            "first columns tensor([0., 4., 8.])\n",
            "last columns tensor([ 3.,  7., 11.])\n"
          ]
        }
      ]
    },
    {
      "cell_type": "markdown",
      "source": [
        "- Joining tensors"
      ],
      "metadata": {
        "id": "0xOv0gsvH_aX"
      }
    },
    {
      "cell_type": "code",
      "source": [
        "t1 = torch.cat([tensor,tensor,tensor],dim=1)\n",
        "t2 = torch.cat([tensor,tensor,tensor],dim=0)\n",
        "print(t1)\n",
        "print(t2)"
      ],
      "metadata": {
        "colab": {
          "base_uri": "https://localhost:8080/"
        },
        "id": "9N_cWbPAGpHp",
        "outputId": "350f7437-0a1e-49e3-c007-d8f4d3f3778f"
      },
      "execution_count": 9,
      "outputs": [
        {
          "output_type": "stream",
          "name": "stdout",
          "text": [
            "tensor([[ 0.,  1.,  2.,  3.,  0.,  1.,  2.,  3.,  0.,  1.,  2.,  3.],\n",
            "        [ 4.,  5.,  6.,  7.,  4.,  5.,  6.,  7.,  4.,  5.,  6.,  7.],\n",
            "        [ 8.,  9., 10., 11.,  8.,  9., 10., 11.,  8.,  9., 10., 11.]])\n",
            "tensor([[ 0.,  1.,  2.,  3.],\n",
            "        [ 4.,  5.,  6.,  7.],\n",
            "        [ 8.,  9., 10., 11.],\n",
            "        [ 0.,  1.,  2.,  3.],\n",
            "        [ 4.,  5.,  6.,  7.],\n",
            "        [ 8.,  9., 10., 11.],\n",
            "        [ 0.,  1.,  2.,  3.],\n",
            "        [ 4.,  5.,  6.,  7.],\n",
            "        [ 8.,  9., 10., 11.]])\n"
          ]
        }
      ]
    },
    {
      "cell_type": "markdown",
      "source": [
        "- Arithmetic operations"
      ],
      "metadata": {
        "id": "qT9e44ZDIr2T"
      }
    },
    {
      "cell_type": "code",
      "source": [
        "y1 = tensor @ tensor.T\n",
        "print(f\"y1 : \\n{y1} \\n\")\n",
        "\n",
        "y2 = tensor.matmul(tensor.T)\n",
        "print(f\"y2 : \\n{y2} \\n\")\n",
        "\n",
        "y3 = torch.rand_like(tensor)\n",
        "torch.matmul(tensor,tensor.T,out=y3)\n",
        "print(f\"y3 : \\n{y3} \\n\")"
      ],
      "metadata": {
        "colab": {
          "base_uri": "https://localhost:8080/"
        },
        "id": "JK83rlzMIwf3",
        "outputId": "b9529607-70d5-41df-9e2c-c563ff596aa1"
      },
      "execution_count": 10,
      "outputs": [
        {
          "output_type": "stream",
          "name": "stdout",
          "text": [
            "y1 : \n",
            "tensor([[ 14.,  38.,  62.],\n",
            "        [ 38., 126., 214.],\n",
            "        [ 62., 214., 366.]]) \n",
            "\n",
            "y2 : \n",
            "tensor([[ 14.,  38.,  62.],\n",
            "        [ 38., 126., 214.],\n",
            "        [ 62., 214., 366.]]) \n",
            "\n",
            "y3 : \n",
            "tensor([[ 14.,  38.,  62.],\n",
            "        [ 38., 126., 214.],\n",
            "        [ 62., 214., 366.]]) \n",
            "\n"
          ]
        },
        {
          "output_type": "stream",
          "name": "stderr",
          "text": [
            "<ipython-input-10-cdd0d0af78a1>:8: UserWarning: An output with one or more elements was resized since it had shape [3, 4], which does not match the required output shape [3, 3]. This behavior is deprecated, and in a future PyTorch release outputs will not be resized unless they have zero elements. You can explicitly reuse an out tensor t by resizing it, inplace, to zero elements with t.resize_(0). (Triggered internally at ../aten/src/ATen/native/Resize.cpp:28.)\n",
            "  torch.matmul(tensor,tensor.T,out=y3)\n"
          ]
        }
      ]
    },
    {
      "cell_type": "code",
      "source": [
        "# This computes the element-wise product. z1, z2, z3 will have the same value\n",
        "z1 = tensor * tensor\n",
        "print(z1)\n",
        "\n",
        "z2 = tensor.mul(tensor)\n",
        "print(z2)\n",
        "\n",
        "z3 = torch.rand_like(tensor)\n",
        "torch.mul(tensor, tensor, out=z3)\n",
        "print(z3)"
      ],
      "metadata": {
        "colab": {
          "base_uri": "https://localhost:8080/"
        },
        "id": "CGkknSdvIwXE",
        "outputId": "a16c0211-2cbc-4b6f-f53c-781fb751e8e2"
      },
      "execution_count": 11,
      "outputs": [
        {
          "output_type": "stream",
          "name": "stdout",
          "text": [
            "tensor([[  0.,   1.,   4.,   9.],\n",
            "        [ 16.,  25.,  36.,  49.],\n",
            "        [ 64.,  81., 100., 121.]])\n",
            "tensor([[  0.,   1.,   4.,   9.],\n",
            "        [ 16.,  25.,  36.,  49.],\n",
            "        [ 64.,  81., 100., 121.]])\n",
            "tensor([[  0.,   1.,   4.,   9.],\n",
            "        [ 16.,  25.,  36.,  49.],\n",
            "        [ 64.,  81., 100., 121.]])\n"
          ]
        }
      ]
    },
    {
      "cell_type": "markdown",
      "source": [
        "### 1.4 GPU Acceleration"
      ],
      "metadata": {
        "id": "RkzAF0nDJ0_k"
      }
    },
    {
      "cell_type": "code",
      "source": [
        "mat = torch.rand(5000,5000)\n",
        "print(mat.shape)\n",
        "mat"
      ],
      "metadata": {
        "colab": {
          "base_uri": "https://localhost:8080/"
        },
        "id": "DOrDvakVIwTJ",
        "outputId": "5355c323-4792-4ed7-83b9-46b73851957f"
      },
      "execution_count": 12,
      "outputs": [
        {
          "output_type": "stream",
          "name": "stdout",
          "text": [
            "torch.Size([5000, 5000])\n"
          ]
        },
        {
          "output_type": "execute_result",
          "data": {
            "text/plain": [
              "tensor([[0.7886, 0.5895, 0.7539,  ..., 0.9313, 0.6453, 0.9844],\n",
              "        [0.8312, 0.8682, 0.9359,  ..., 0.4046, 0.9987, 0.8608],\n",
              "        [0.1268, 0.2253, 0.1223,  ..., 0.3939, 0.4493, 0.5327],\n",
              "        ...,\n",
              "        [0.5851, 0.5824, 0.8857,  ..., 0.3165, 0.4845, 0.3896],\n",
              "        [0.3348, 0.1535, 0.5840,  ..., 0.0285, 0.7444, 0.5193],\n",
              "        [0.4027, 0.7190, 0.3847,  ..., 0.9606, 0.6629, 0.0359]])"
            ]
          },
          "metadata": {},
          "execution_count": 12
        }
      ]
    },
    {
      "cell_type": "code",
      "source": [
        "%%time\n",
        "torch.mm(mat.t(),mat)"
      ],
      "metadata": {
        "colab": {
          "base_uri": "https://localhost:8080/"
        },
        "id": "G1XxuzkpIwOQ",
        "outputId": "bbc4ae74-4b44-4e08-e614-c27c3b74d0b0"
      },
      "execution_count": 13,
      "outputs": [
        {
          "output_type": "stream",
          "name": "stdout",
          "text": [
            "CPU times: user 4.84 s, sys: 114 ms, total: 4.95 s\n",
            "Wall time: 5.33 s\n"
          ]
        },
        {
          "output_type": "execute_result",
          "data": {
            "text/plain": [
              "tensor([[1697.6150, 1260.7886, 1260.5798,  ..., 1276.7966, 1265.4301,\n",
              "         1273.4854],\n",
              "        [1260.7886, 1655.7583, 1247.6844,  ..., 1256.2369, 1263.6820,\n",
              "         1263.9419],\n",
              "        [1260.5798, 1247.6844, 1658.2700,  ..., 1258.1453, 1267.2045,\n",
              "         1274.8801],\n",
              "        ...,\n",
              "        [1276.7966, 1256.2367, 1258.1453,  ..., 1704.4204, 1270.7224,\n",
              "         1275.9523],\n",
              "        [1265.4302, 1263.6820, 1267.2046,  ..., 1270.7224, 1686.0026,\n",
              "         1272.0712],\n",
              "        [1273.4852, 1263.9419, 1274.8801,  ..., 1275.9523, 1272.0712,\n",
              "         1699.9994]])"
            ]
          },
          "metadata": {},
          "execution_count": 13
        }
      ]
    },
    {
      "cell_type": "code",
      "source": [
        "%%time\n",
        "if torch.cuda.is_available():\n",
        "    mat = mat.cuda()\n",
        "    torch.mm(mat.t(),mat)\n",
        "else:\n",
        "    print(\"no cuda\")"
      ],
      "metadata": {
        "colab": {
          "base_uri": "https://localhost:8080/"
        },
        "id": "h4n6LT44L0Ph",
        "outputId": "48866fd5-a9b2-4972-f508-e3aa4a0c05e0"
      },
      "execution_count": 14,
      "outputs": [
        {
          "output_type": "stream",
          "name": "stdout",
          "text": [
            "CPU times: user 94.2 ms, sys: 230 ms, total: 324 ms\n",
            "Wall time: 489 ms\n"
          ]
        }
      ]
    },
    {
      "cell_type": "markdown",
      "source": [
        "### Exercise 1\n",
        "$$\n",
        " \\sigma(x) = \\frac {1}{1+exp(-x)}\n",
        "$$"
      ],
      "metadata": {
        "id": "VACAg1iKNW-O"
      }
    },
    {
      "cell_type": "code",
      "source": [
        "def simoid(x):\n",
        "    return 1/(1+torch.exp(-x))"
      ],
      "metadata": {
        "id": "1FnDSjGNL0MV"
      },
      "execution_count": 14,
      "outputs": []
    },
    {
      "cell_type": "markdown",
      "source": [
        "### Exercise 2\n",
        "\n",
        "$$\n",
        "softmax(X)_{ij} = \\frac{exp(X_{ij})}{\\sum_kexp(X_{ik})}\n",
        "$$"
      ],
      "metadata": {
        "id": "vAu5tnqxO9rW"
      }
    },
    {
      "cell_type": "code",
      "source": [
        "def softmax(X):\n",
        "    return torch.exp(X)/torch.sum(torch.exp(X),dim=1).unsqueeze(1)\n"
      ],
      "metadata": {
        "id": "8J6NvbBIL0IK"
      },
      "execution_count": 14,
      "outputs": []
    },
    {
      "cell_type": "code",
      "source": [
        "X = torch.tensor([[0.2288, 0.4111, 0.0385], [0.6233, 0.0364, 0.1999]])"
      ],
      "metadata": {
        "id": "9tbvWikwLzzp"
      },
      "execution_count": 15,
      "outputs": []
    },
    {
      "cell_type": "code",
      "source": [
        "torch.exp(X)"
      ],
      "metadata": {
        "colab": {
          "base_uri": "https://localhost:8080/"
        },
        "id": "U7A3SngRQoP3",
        "outputId": "f2e55ee8-ac7f-465f-f07b-2bd95f8025d9"
      },
      "execution_count": 20,
      "outputs": [
        {
          "output_type": "execute_result",
          "data": {
            "text/plain": [
              "tensor([[1.2571, 1.5085, 1.0393],\n",
              "        [1.8651, 1.0371, 1.2213]])"
            ]
          },
          "metadata": {},
          "execution_count": 20
        }
      ]
    },
    {
      "cell_type": "code",
      "source": [
        "torch.sum(torch.exp(X),dim=1)"
      ],
      "metadata": {
        "colab": {
          "base_uri": "https://localhost:8080/"
        },
        "id": "93lpUunKQBv_",
        "outputId": "846943f8-d5f1-4d0c-d144-4b2535296151"
      },
      "execution_count": 19,
      "outputs": [
        {
          "output_type": "execute_result",
          "data": {
            "text/plain": [
              "tensor([3.8048, 4.1234])"
            ]
          },
          "metadata": {},
          "execution_count": 19
        }
      ]
    },
    {
      "cell_type": "markdown",
      "source": [
        "Tensor配列のサイズ1の次元を削除する: torch.squeeze\n",
        "\n",
        " 指定した位置にサイズ1の次元を挿入する: torch.unsqueeze"
      ],
      "metadata": {
        "id": "vONef8RIRsV5"
      }
    },
    {
      "cell_type": "code",
      "source": [
        "torch.sum(torch.exp(X),dim=1).unsqueeze(1)"
      ],
      "metadata": {
        "colab": {
          "base_uri": "https://localhost:8080/"
        },
        "id": "0Kasgu4dQBtk",
        "outputId": "fb2c2a53-e527-487d-d25a-819a573df626"
      },
      "execution_count": 21,
      "outputs": [
        {
          "output_type": "execute_result",
          "data": {
            "text/plain": [
              "tensor([[3.8048],\n",
              "        [4.1234]])"
            ]
          },
          "metadata": {},
          "execution_count": 21
        }
      ]
    },
    {
      "cell_type": "markdown",
      "source": [
        "### Exercise 3\n",
        "$$\n",
        "O = XW +b\n",
        "$$"
      ],
      "metadata": {
        "id": "rQWkhbjBSBJd"
      }
    },
    {
      "cell_type": "code",
      "source": [
        "def linear(X, W, b):\n",
        "    return X @ W + b"
      ],
      "metadata": {
        "id": "_hDAtFp-QBqv"
      },
      "execution_count": 22,
      "outputs": []
    },
    {
      "cell_type": "code",
      "source": [
        "X = torch.Tensor([[0.1, 0.2, 0.3]])\n",
        "W = torch.Tensor([[0.1, 0.2, 0.3]]).T\n",
        "b = torch.Tensor([-0.5])\n",
        "assert torch.allclose(linear(X, W, b), torch.Tensor([[-0.3600]]), rtol=1e-2)"
      ],
      "metadata": {
        "id": "XI29BjwEQBoC"
      },
      "execution_count": 23,
      "outputs": []
    },
    {
      "cell_type": "markdown",
      "source": [
        "## Loss"
      ],
      "metadata": {
        "id": "36ZVjJFHB1Zs"
      }
    },
    {
      "cell_type": "markdown",
      "source": [
        "学習データを提示された場合、未学習のネットワークは正しい答えを返さない可能性が高い。  \n",
        "損失関数は、得られた結果の目標値に対する非類似度を測定するもので、学習中に最小化したい損失関数である。  \n",
        "損失を計算するには、与えられたデータサンプルの入力を使って予測を行い、真のデータラベル値と比較する。"
      ],
      "metadata": {
        "id": "-lks6Lh_S0gG"
      }
    },
    {
      "cell_type": "markdown",
      "source": [
        "一般的な損失関数には、回帰タスク用のnn.MSELoss (Mean Square Error)と分類用のnn.NLLoss (Negative Log Likelihood)があります。  \n",
        "nn.CrossEntropyLossはnn.LogSoftmaxとnn.NLLossを組み合わせたものです。  \n",
        "nn.BCELossはバイナリ分類用に特別に設計されています。"
      ],
      "metadata": {
        "id": "fzRg0iNQTMtL"
      }
    },
    {
      "cell_type": "markdown",
      "source": [
        "- mean squared error\n",
        "$$\n",
        "L^{(i)} = \\frac{1}{2} (\\hat{y}^{(i)}-y^{(i)})^2\n",
        "$$\n"
      ],
      "metadata": {
        "id": "D3fqi7OaTyXb"
      }
    },
    {
      "cell_type": "code",
      "source": [
        "def squared_loss(y_hat, y):\n",
        "    return ((y_hat - y.reshape(y_hat.shape)) ** 2 / 2).mean()"
      ],
      "metadata": {
        "id": "UDLQAAjpB4ij"
      },
      "execution_count": 24,
      "outputs": []
    },
    {
      "cell_type": "markdown",
      "source": [
        "### Exercise 4\n",
        "$$\n",
        "i^{(i)} = -\\sum_{i=1}y^{(i)}_j\\log\\hat{y}^{(i)},  \n",
        "$$\n",
        "$$\n",
        "L = \\frac {1}{N}\\sum_{i=1}^ni^{(i)}\n",
        "$$"
      ],
      "metadata": {
        "id": "BkwlG019Woo4"
      }
    },
    {
      "cell_type": "code",
      "source": [
        "y = torch.tensor([[1, 0, 0], [0, 0, 1]])\n",
        "y_hat = torch.tensor([[0.1, 0.3, 0.6], [0.3, 0.2, 0.5]])"
      ],
      "metadata": {
        "id": "CQoInjohZ5om"
      },
      "execution_count": 25,
      "outputs": []
    },
    {
      "cell_type": "code",
      "source": [
        "torch.sum(-torch.sum(y * torch.log(y_hat),dim=1))/y.shape[0]"
      ],
      "metadata": {
        "colab": {
          "base_uri": "https://localhost:8080/"
        },
        "id": "iDEAryiyZ89C",
        "outputId": "4e17762d-4597-4c0e-d731-4d46a062bad6"
      },
      "execution_count": 30,
      "outputs": [
        {
          "output_type": "execute_result",
          "data": {
            "text/plain": [
              "tensor(1.4979)"
            ]
          },
          "metadata": {},
          "execution_count": 30
        }
      ]
    },
    {
      "cell_type": "code",
      "source": [
        "def cross_entropy(y_hat, y):\n",
        "    return -torch.sum(y * torch.log(y_hat))/y.shape[0]"
      ],
      "metadata": {
        "id": "fhM1mrNTZ8yQ"
      },
      "execution_count": null,
      "outputs": []
    },
    {
      "cell_type": "markdown",
      "source": [
        "## Autograd"
      ],
      "metadata": {
        "id": "qlV5FZDSB51h"
      }
    },
    {
      "cell_type": "code",
      "source": [],
      "metadata": {
        "id": "cZe4eoqvB84c"
      },
      "execution_count": 14,
      "outputs": []
    },
    {
      "cell_type": "markdown",
      "source": [
        "## Assiginment"
      ],
      "metadata": {
        "id": "28Lr6fIUB-Ri"
      }
    },
    {
      "cell_type": "code",
      "source": [],
      "metadata": {
        "id": "QeB0ginFCGvA"
      },
      "execution_count": 14,
      "outputs": []
    }
  ]
}