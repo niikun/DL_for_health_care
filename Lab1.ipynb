{
  "nbformat": 4,
  "nbformat_minor": 0,
  "metadata": {
    "colab": {
      "provenance": [],
      "authorship_tag": "ABX9TyM4nCa29nUeGaCOXnIBWh0i",
      "include_colab_link": true
    },
    "kernelspec": {
      "name": "python3",
      "display_name": "Python 3"
    },
    "language_info": {
      "name": "python"
    }
  },
  "cells": [
    {
      "cell_type": "markdown",
      "metadata": {
        "id": "view-in-github",
        "colab_type": "text"
      },
      "source": [
        "<a href=\"https://colab.research.google.com/github/niikun/DL_for_health_care/blob/main/Lab1.ipynb\" target=\"_parent\"><img src=\"https://colab.research.google.com/assets/colab-badge.svg\" alt=\"Open In Colab\"/></a>"
      ]
    },
    {
      "cell_type": "code",
      "execution_count": null,
      "metadata": {
        "id": "xrnrxIy9BF4n"
      },
      "outputs": [],
      "source": []
    },
    {
      "cell_type": "markdown",
      "source": [
        "# Lab1\n",
        "この最初のラボでは、Tensors、Loss、Autogradを含むPyTorchの基礎を紹介します。うまくいけば、PyTorchに慣れ始めるでしょう。最後に、いくつかの合成データを使ってsratchから線形回帰モデルを実装します。\n",
        "Table of Contents\n",
        "- Tensors\n",
        "- Loss\n",
        "- Autograd\n",
        "- Assignment\n"
      ],
      "metadata": {
        "id": "ppBjYMgUBPtb"
      }
    },
    {
      "cell_type": "code",
      "source": [
        "import os\n",
        "import torch\n",
        "import numpy as np\n",
        "import matplotlib.pyplot as plt\n",
        "import random"
      ],
      "metadata": {
        "id": "L77MA3yXCMIJ"
      },
      "execution_count": 1,
      "outputs": []
    },
    {
      "cell_type": "code",
      "source": [
        "#set seed\n",
        "seed = 42\n",
        "random.seed(seed)\n",
        "np.random.seed(seed)\n",
        "torch.manual_seed(seed)\n",
        "os.environ[\"PYTHONHASHSEED\"]=str(seed)"
      ],
      "metadata": {
        "id": "Et5f1ytRCLjF"
      },
      "execution_count": 2,
      "outputs": []
    },
    {
      "cell_type": "markdown",
      "source": [
        "## Tensor"
      ],
      "metadata": {
        "id": "8NFvejR7Bt9o"
      }
    },
    {
      "cell_type": "markdown",
      "source": [
        "### 1.1 Initializing Tensor"
      ],
      "metadata": {
        "id": "wj35KDWMDZuO"
      }
    },
    {
      "cell_type": "markdown",
      "source": [
        "- Directly from data"
      ],
      "metadata": {
        "id": "OLPTTYSgDzFX"
      }
    },
    {
      "cell_type": "code",
      "source": [
        "data = [[1,2],[3,4]]\n",
        "x_data = torch.tensor(data)\n",
        "x_data"
      ],
      "metadata": {
        "colab": {
          "base_uri": "https://localhost:8080/"
        },
        "id": "jhShltLVDAaz",
        "outputId": "16c462b8-b6cf-4254-d63d-d0c07bf1bc06"
      },
      "execution_count": 3,
      "outputs": [
        {
          "output_type": "execute_result",
          "data": {
            "text/plain": [
              "tensor([[1, 2],\n",
              "        [3, 4]])"
            ]
          },
          "metadata": {},
          "execution_count": 3
        }
      ]
    },
    {
      "cell_type": "markdown",
      "source": [
        "- from a numpy array"
      ],
      "metadata": {
        "id": "pQwkWsUJD6pW"
      }
    },
    {
      "cell_type": "code",
      "source": [
        "np_array = np.array(data)\n",
        "x_np = torch.from_numpy(np_array)\n",
        "x_np"
      ],
      "metadata": {
        "colab": {
          "base_uri": "https://localhost:8080/"
        },
        "id": "fWboH_P5DAPr",
        "outputId": "97fa16e8-b72b-45b0-a562-ecc4d0ae3ead"
      },
      "execution_count": 4,
      "outputs": [
        {
          "output_type": "execute_result",
          "data": {
            "text/plain": [
              "tensor([[1, 2],\n",
              "        [3, 4]])"
            ]
          },
          "metadata": {},
          "execution_count": 4
        }
      ]
    },
    {
      "cell_type": "markdown",
      "source": [
        "- from another tensor"
      ],
      "metadata": {
        "id": "G8-33OFZERZI"
      }
    },
    {
      "cell_type": "code",
      "source": [
        "x_ones = torch.ones_like(x_data)\n",
        "print(f\"ones tensor :\\n {x_ones} \\n\")\n",
        "\n",
        "x_rand = torch.rand_like(x_data, dtype=torch.float)\n",
        "print(f\"random tensor :\\n {x_rand} \\n\")"
      ],
      "metadata": {
        "colab": {
          "base_uri": "https://localhost:8080/"
        },
        "id": "GZnzpPciEVN0",
        "outputId": "99b650ee-5845-4b76-e26b-bfa55ab2a2be"
      },
      "execution_count": 5,
      "outputs": [
        {
          "output_type": "stream",
          "name": "stdout",
          "text": [
            "ones tensor :\n",
            " tensor([[1, 1],\n",
            "        [1, 1]]) \n",
            "\n",
            "random tensor :\n",
            " tensor([[0.8823, 0.9150],\n",
            "        [0.3829, 0.9593]]) \n",
            "\n"
          ]
        }
      ]
    },
    {
      "cell_type": "markdown",
      "source": [
        "- with random or constant values:"
      ],
      "metadata": {
        "id": "t9C0NO0FFVuv"
      }
    },
    {
      "cell_type": "code",
      "source": [
        "shape = (2,3)\n",
        "rand_tensor=torch.rand(shape)\n",
        "ones_tensor = torch.ones(shape)\n",
        "zeros_tensor = torch.zeros(shape)\n",
        "\n",
        "print(f\"random tensor :\\n {rand_tensor} \\n\")\n",
        "print(f\"ones tensor :\\n {ones_tensor} \\n\")\n",
        "print(f\"zeros tensor \\n {zeros_tensor}\\n\")"
      ],
      "metadata": {
        "colab": {
          "base_uri": "https://localhost:8080/"
        },
        "id": "cTrUqFQSFf2I",
        "outputId": "939ad9bd-b067-47e2-92b8-b587dcf65b23"
      },
      "execution_count": 6,
      "outputs": [
        {
          "output_type": "stream",
          "name": "stdout",
          "text": [
            "random tensor :\n",
            " tensor([[0.3904, 0.6009, 0.2566],\n",
            "        [0.7936, 0.9408, 0.1332]]) \n",
            "\n",
            "ones tensor :\n",
            " tensor([[1., 1., 1.],\n",
            "        [1., 1., 1.]]) \n",
            "\n",
            "zeros tensor \n",
            " tensor([[0., 0., 0.],\n",
            "        [0., 0., 0.]])\n",
            "\n"
          ]
        }
      ]
    },
    {
      "cell_type": "markdown",
      "source": [
        "### 1.2 Attributes of a tensor"
      ],
      "metadata": {
        "id": "jDMPVa0DBMkl"
      }
    },
    {
      "cell_type": "code",
      "source": [
        "tensor = torch.rand(3,4)\n",
        "print(f\"shape of tensor : {tensor.shape}\")\n",
        "print(f\"data type of tensor : {tensor.dtype}\")\n",
        "print(f\"device tensor is stored on : {tensor.device}\")"
      ],
      "metadata": {
        "colab": {
          "base_uri": "https://localhost:8080/"
        },
        "id": "PHGIzYoxGpOn",
        "outputId": "cf4e537e-caf6-46e5-e3ba-8868fa5e27e0"
      },
      "execution_count": 7,
      "outputs": [
        {
          "output_type": "stream",
          "name": "stdout",
          "text": [
            "shape of tensor : torch.Size([3, 4])\n",
            "data type of tensor : torch.float32\n",
            "device tensor is stored on : cpu\n"
          ]
        }
      ]
    },
    {
      "cell_type": "markdown",
      "source": [
        "### 1.3 operations on tensors"
      ],
      "metadata": {
        "id": "mqrQ3vWiHEWj"
      }
    },
    {
      "cell_type": "markdown",
      "source": [
        "- Standard numpy-like indexing and slicing:"
      ],
      "metadata": {
        "id": "D0XzZ_nUIDtS"
      }
    },
    {
      "cell_type": "code",
      "source": [
        "tensor = torch.arange(12).reshape(3,4).float()\n",
        "print(tensor)\n",
        "print(\"first row\",tensor[0])\n",
        "print(\"first columns\",tensor[:,0])\n",
        "print(\"last columns\",tensor[:,-1])"
      ],
      "metadata": {
        "colab": {
          "base_uri": "https://localhost:8080/"
        },
        "id": "oOx6nqPoGpLj",
        "outputId": "a1de5215-fee0-434e-fa1d-f02f02e12702"
      },
      "execution_count": 8,
      "outputs": [
        {
          "output_type": "stream",
          "name": "stdout",
          "text": [
            "tensor([[ 0.,  1.,  2.,  3.],\n",
            "        [ 4.,  5.,  6.,  7.],\n",
            "        [ 8.,  9., 10., 11.]])\n",
            "first row tensor([0., 1., 2., 3.])\n",
            "first columns tensor([0., 4., 8.])\n",
            "last columns tensor([ 3.,  7., 11.])\n"
          ]
        }
      ]
    },
    {
      "cell_type": "markdown",
      "source": [
        "- Joining tensors"
      ],
      "metadata": {
        "id": "0xOv0gsvH_aX"
      }
    },
    {
      "cell_type": "code",
      "source": [
        "t1 = torch.cat([tensor,tensor,tensor],dim=1)\n",
        "t2 = torch.cat([tensor,tensor,tensor],dim=0)\n",
        "print(t1)\n",
        "print(t2)"
      ],
      "metadata": {
        "colab": {
          "base_uri": "https://localhost:8080/"
        },
        "id": "9N_cWbPAGpHp",
        "outputId": "b7403df6-4800-4032-a57c-42f4d919829f"
      },
      "execution_count": 9,
      "outputs": [
        {
          "output_type": "stream",
          "name": "stdout",
          "text": [
            "tensor([[ 0.,  1.,  2.,  3.,  0.,  1.,  2.,  3.,  0.,  1.,  2.,  3.],\n",
            "        [ 4.,  5.,  6.,  7.,  4.,  5.,  6.,  7.,  4.,  5.,  6.,  7.],\n",
            "        [ 8.,  9., 10., 11.,  8.,  9., 10., 11.,  8.,  9., 10., 11.]])\n",
            "tensor([[ 0.,  1.,  2.,  3.],\n",
            "        [ 4.,  5.,  6.,  7.],\n",
            "        [ 8.,  9., 10., 11.],\n",
            "        [ 0.,  1.,  2.,  3.],\n",
            "        [ 4.,  5.,  6.,  7.],\n",
            "        [ 8.,  9., 10., 11.],\n",
            "        [ 0.,  1.,  2.,  3.],\n",
            "        [ 4.,  5.,  6.,  7.],\n",
            "        [ 8.,  9., 10., 11.]])\n"
          ]
        }
      ]
    },
    {
      "cell_type": "markdown",
      "source": [
        "- Arithmetic operations"
      ],
      "metadata": {
        "id": "qT9e44ZDIr2T"
      }
    },
    {
      "cell_type": "code",
      "source": [
        "y1 = tensor @ tensor.T\n",
        "print(f\"y1 : \\n{y1} \\n\")\n",
        "\n",
        "y2 = tensor.matmul(tensor.T)\n",
        "print(f\"y2 : \\n{y2} \\n\")\n",
        "\n",
        "y3 = torch.rand_like(tensor)\n",
        "torch.matmul(tensor,tensor.T,out=y3)\n",
        "print(f\"y3 : \\n{y3} \\n\")"
      ],
      "metadata": {
        "colab": {
          "base_uri": "https://localhost:8080/"
        },
        "id": "JK83rlzMIwf3",
        "outputId": "7b14432f-797a-48ed-a577-5f78b78e463c"
      },
      "execution_count": 10,
      "outputs": [
        {
          "output_type": "stream",
          "name": "stdout",
          "text": [
            "y1 : \n",
            "tensor([[ 14.,  38.,  62.],\n",
            "        [ 38., 126., 214.],\n",
            "        [ 62., 214., 366.]]) \n",
            "\n",
            "y2 : \n",
            "tensor([[ 14.,  38.,  62.],\n",
            "        [ 38., 126., 214.],\n",
            "        [ 62., 214., 366.]]) \n",
            "\n",
            "y3 : \n",
            "tensor([[ 14.,  38.,  62.],\n",
            "        [ 38., 126., 214.],\n",
            "        [ 62., 214., 366.]]) \n",
            "\n"
          ]
        },
        {
          "output_type": "stream",
          "name": "stderr",
          "text": [
            "<ipython-input-10-cdd0d0af78a1>:8: UserWarning: An output with one or more elements was resized since it had shape [3, 4], which does not match the required output shape [3, 3]. This behavior is deprecated, and in a future PyTorch release outputs will not be resized unless they have zero elements. You can explicitly reuse an out tensor t by resizing it, inplace, to zero elements with t.resize_(0). (Triggered internally at ../aten/src/ATen/native/Resize.cpp:28.)\n",
            "  torch.matmul(tensor,tensor.T,out=y3)\n"
          ]
        }
      ]
    },
    {
      "cell_type": "code",
      "source": [
        "# This computes the element-wise product. z1, z2, z3 will have the same value\n",
        "z1 = tensor * tensor\n",
        "print(z1)\n",
        "\n",
        "z2 = tensor.mul(tensor)\n",
        "print(z2)\n",
        "\n",
        "z3 = torch.rand_like(tensor)\n",
        "torch.mul(tensor, tensor, out=z3)\n",
        "print(z3)"
      ],
      "metadata": {
        "colab": {
          "base_uri": "https://localhost:8080/"
        },
        "id": "CGkknSdvIwXE",
        "outputId": "8987c65e-8a9f-400e-8776-efbfd178e344"
      },
      "execution_count": 11,
      "outputs": [
        {
          "output_type": "stream",
          "name": "stdout",
          "text": [
            "tensor([[  0.,   1.,   4.,   9.],\n",
            "        [ 16.,  25.,  36.,  49.],\n",
            "        [ 64.,  81., 100., 121.]])\n",
            "tensor([[  0.,   1.,   4.,   9.],\n",
            "        [ 16.,  25.,  36.,  49.],\n",
            "        [ 64.,  81., 100., 121.]])\n",
            "tensor([[  0.,   1.,   4.,   9.],\n",
            "        [ 16.,  25.,  36.,  49.],\n",
            "        [ 64.,  81., 100., 121.]])\n"
          ]
        }
      ]
    },
    {
      "cell_type": "markdown",
      "source": [
        "### 1.4 GPU Acceleration"
      ],
      "metadata": {
        "id": "RkzAF0nDJ0_k"
      }
    },
    {
      "cell_type": "code",
      "source": [
        "mat = torch.rand(5000,5000)\n",
        "print(mat.shape)\n",
        "mat"
      ],
      "metadata": {
        "colab": {
          "base_uri": "https://localhost:8080/"
        },
        "id": "DOrDvakVIwTJ",
        "outputId": "a346096f-297d-457e-9f00-2f2fd50e7df7"
      },
      "execution_count": 12,
      "outputs": [
        {
          "output_type": "stream",
          "name": "stdout",
          "text": [
            "torch.Size([5000, 5000])\n"
          ]
        },
        {
          "output_type": "execute_result",
          "data": {
            "text/plain": [
              "tensor([[0.7886, 0.5895, 0.7539,  ..., 0.9313, 0.6453, 0.9844],\n",
              "        [0.8312, 0.8682, 0.9359,  ..., 0.4046, 0.9987, 0.8608],\n",
              "        [0.1268, 0.2253, 0.1223,  ..., 0.3939, 0.4493, 0.5327],\n",
              "        ...,\n",
              "        [0.5851, 0.5824, 0.8857,  ..., 0.3165, 0.4845, 0.3896],\n",
              "        [0.3348, 0.1535, 0.5840,  ..., 0.0285, 0.7444, 0.5193],\n",
              "        [0.4027, 0.7190, 0.3847,  ..., 0.9606, 0.6629, 0.0359]])"
            ]
          },
          "metadata": {},
          "execution_count": 12
        }
      ]
    },
    {
      "cell_type": "code",
      "source": [
        "%%time\n",
        "torch.mm(mat.t(),mat)"
      ],
      "metadata": {
        "colab": {
          "base_uri": "https://localhost:8080/"
        },
        "id": "G1XxuzkpIwOQ",
        "outputId": "508a1a6e-b95f-48f1-a878-03db553d2cf3"
      },
      "execution_count": 13,
      "outputs": [
        {
          "output_type": "stream",
          "name": "stdout",
          "text": [
            "CPU times: user 2.84 s, sys: 141 ms, total: 2.98 s\n",
            "Wall time: 4.95 s\n"
          ]
        },
        {
          "output_type": "execute_result",
          "data": {
            "text/plain": [
              "tensor([[1697.6149, 1260.7888, 1260.5797,  ..., 1276.7963, 1265.4302,\n",
              "         1273.4852],\n",
              "        [1260.7888, 1655.7581, 1247.6843,  ..., 1256.2366, 1263.6820,\n",
              "         1263.9420],\n",
              "        [1260.5797, 1247.6843, 1658.2701,  ..., 1258.1453, 1267.2046,\n",
              "         1274.8799],\n",
              "        ...,\n",
              "        [1276.7963, 1256.2366, 1258.1453,  ..., 1704.4203, 1270.7225,\n",
              "         1275.9521],\n",
              "        [1265.4302, 1263.6820, 1267.2046,  ..., 1270.7225, 1686.0028,\n",
              "         1272.0708],\n",
              "        [1273.4852, 1263.9420, 1274.8799,  ..., 1275.9521, 1272.0708,\n",
              "         1699.9993]])"
            ]
          },
          "metadata": {},
          "execution_count": 13
        }
      ]
    },
    {
      "cell_type": "code",
      "source": [
        "%%time\n",
        "if torch.cuda.is_available():\n",
        "    mat = mat.cuda()\n",
        "    torch.mm(mat.t(),mat)\n",
        "else:\n",
        "    print(\"no cuda\")"
      ],
      "metadata": {
        "colab": {
          "base_uri": "https://localhost:8080/"
        },
        "id": "h4n6LT44L0Ph",
        "outputId": "f6f97d62-5a06-47b8-a58e-6f0551dc316e"
      },
      "execution_count": 14,
      "outputs": [
        {
          "output_type": "stream",
          "name": "stdout",
          "text": [
            "CPU times: user 76.4 ms, sys: 145 ms, total: 222 ms\n",
            "Wall time: 590 ms\n"
          ]
        }
      ]
    },
    {
      "cell_type": "markdown",
      "source": [
        "### Exercise 1\n",
        "$$\n",
        " \\sigma(x) = \\frac {1}{1+exp(-x)}\n",
        "$$"
      ],
      "metadata": {
        "id": "VACAg1iKNW-O"
      }
    },
    {
      "cell_type": "code",
      "source": [
        "def simoid(x):\n",
        "    return 1/(1+torch.exp(-x))"
      ],
      "metadata": {
        "id": "1FnDSjGNL0MV"
      },
      "execution_count": 4,
      "outputs": []
    },
    {
      "cell_type": "markdown",
      "source": [
        "### Exercise 2\n",
        "\n",
        "$$\n",
        "softmax(X)_{ij} = \\frac{exp(X_{ij})}{\\sum_kexp(X_{ik})}\n",
        "$$"
      ],
      "metadata": {
        "id": "vAu5tnqxO9rW"
      }
    },
    {
      "cell_type": "code",
      "source": [
        "def softmax(X):\n",
        "    return torch.exp(X)/torch.sum(torch.exp(X),dim=1).unsqueeze(1)\n"
      ],
      "metadata": {
        "id": "8J6NvbBIL0IK"
      },
      "execution_count": 5,
      "outputs": []
    },
    {
      "cell_type": "code",
      "source": [
        "X = torch.tensor([[0.2288, 0.4111, 0.0385], [0.6233, 0.0364, 0.1999]])"
      ],
      "metadata": {
        "id": "9tbvWikwLzzp"
      },
      "execution_count": 6,
      "outputs": []
    },
    {
      "cell_type": "code",
      "source": [
        "torch.exp(X)"
      ],
      "metadata": {
        "colab": {
          "base_uri": "https://localhost:8080/"
        },
        "id": "U7A3SngRQoP3",
        "outputId": "37c92512-f47d-4140-904f-ae11abba7c9d"
      },
      "execution_count": 7,
      "outputs": [
        {
          "output_type": "execute_result",
          "data": {
            "text/plain": [
              "tensor([[1.2571, 1.5085, 1.0393],\n",
              "        [1.8651, 1.0371, 1.2213]])"
            ]
          },
          "metadata": {},
          "execution_count": 7
        }
      ]
    },
    {
      "cell_type": "code",
      "source": [
        "torch.sum(torch.exp(X),dim=1)"
      ],
      "metadata": {
        "colab": {
          "base_uri": "https://localhost:8080/"
        },
        "id": "93lpUunKQBv_",
        "outputId": "e1630a71-c919-4bce-8c73-4a7dbfb8495b"
      },
      "execution_count": 8,
      "outputs": [
        {
          "output_type": "execute_result",
          "data": {
            "text/plain": [
              "tensor([3.8048, 4.1234])"
            ]
          },
          "metadata": {},
          "execution_count": 8
        }
      ]
    },
    {
      "cell_type": "markdown",
      "source": [
        "Tensor配列のサイズ1の次元を削除する: torch.squeeze\n",
        "\n",
        " 指定した位置にサイズ1の次元を挿入する: torch.unsqueeze"
      ],
      "metadata": {
        "id": "vONef8RIRsV5"
      }
    },
    {
      "cell_type": "code",
      "source": [
        "torch.sum(torch.exp(X),dim=1).unsqueeze(1)"
      ],
      "metadata": {
        "colab": {
          "base_uri": "https://localhost:8080/"
        },
        "id": "0Kasgu4dQBtk",
        "outputId": "69d98445-d4d8-43b8-884b-6943d7821960"
      },
      "execution_count": 9,
      "outputs": [
        {
          "output_type": "execute_result",
          "data": {
            "text/plain": [
              "tensor([[3.8048],\n",
              "        [4.1234]])"
            ]
          },
          "metadata": {},
          "execution_count": 9
        }
      ]
    },
    {
      "cell_type": "markdown",
      "source": [
        "### Exercise 3\n",
        "$$\n",
        "O = XW +b\n",
        "$$"
      ],
      "metadata": {
        "id": "rQWkhbjBSBJd"
      }
    },
    {
      "cell_type": "code",
      "source": [
        "def linear(X, W, b):\n",
        "    return X @ W + b"
      ],
      "metadata": {
        "id": "_hDAtFp-QBqv"
      },
      "execution_count": 11,
      "outputs": []
    },
    {
      "cell_type": "code",
      "source": [
        "X = torch.Tensor([[0.1, 0.2, 0.3]])\n",
        "W = torch.Tensor([[0.1, 0.2, 0.3]]).T\n",
        "b = torch.Tensor([-0.5])\n",
        "assert torch.allclose(linear(X, W, b), torch.Tensor([[-0.3600]]), rtol=1e-2)"
      ],
      "metadata": {
        "id": "XI29BjwEQBoC"
      },
      "execution_count": 13,
      "outputs": []
    },
    {
      "cell_type": "markdown",
      "source": [
        "## Loss"
      ],
      "metadata": {
        "id": "36ZVjJFHB1Zs"
      }
    },
    {
      "cell_type": "markdown",
      "source": [
        "学習データを提示された場合、未学習のネットワークは正しい答えを返さない可能性が高い。  \n",
        "損失関数は、得られた結果の目標値に対する非類似度を測定するもので、学習中に最小化したい損失関数である。  \n",
        "損失を計算するには、与えられたデータサンプルの入力を使って予測を行い、真のデータラベル値と比較する。"
      ],
      "metadata": {
        "id": "-lks6Lh_S0gG"
      }
    },
    {
      "cell_type": "markdown",
      "source": [
        "一般的な損失関数には、回帰タスク用のnn.MSELoss (Mean Square Error)と分類用のnn.NLLoss (Negative Log Likelihood)があります。  \n",
        "nn.CrossEntropyLossはnn.LogSoftmaxとnn.NLLossを組み合わせたものです。  \n",
        "nn.BCELossはバイナリ分類用に特別に設計されています。"
      ],
      "metadata": {
        "id": "fzRg0iNQTMtL"
      }
    },
    {
      "cell_type": "markdown",
      "source": [
        "- mean squared error\n",
        "$$\n",
        "L^{(i)} = \\frac{1}{2} (\\hat{y}^{(i)}-y^{(i)})^2\n",
        "$$\n"
      ],
      "metadata": {
        "id": "D3fqi7OaTyXb"
      }
    },
    {
      "cell_type": "code",
      "source": [
        "def squared_loss(y_hat, y):\n",
        "    return ((y_hat - y.reshape(y_hat.shape)) ** 2 / 2).mean()"
      ],
      "metadata": {
        "id": "UDLQAAjpB4ij"
      },
      "execution_count": 14,
      "outputs": []
    },
    {
      "cell_type": "markdown",
      "source": [
        "### Exercise 4\n",
        "$$\n",
        "i^{(i)} = -\\sum_{i=1}y^{(i)}_j\\log\\hat{y}^{(i)},  \n",
        "$$\n",
        "$$\n",
        "L = \\frac {1}{N}\\sum_{i=1}^ni^{(i)}\n",
        "$$"
      ],
      "metadata": {
        "id": "BkwlG019Woo4"
      }
    },
    {
      "cell_type": "code",
      "source": [
        "y = torch.tensor([[1, 0, 0], [0, 0, 1]])\n",
        "y_hat = torch.tensor([[0.1, 0.3, 0.6], [0.3, 0.2, 0.5]])"
      ],
      "metadata": {
        "id": "CQoInjohZ5om"
      },
      "execution_count": 15,
      "outputs": []
    },
    {
      "cell_type": "code",
      "source": [
        "torch.sum(-torch.sum(y * torch.log(y_hat),dim=1))/y.shape[0]"
      ],
      "metadata": {
        "colab": {
          "base_uri": "https://localhost:8080/"
        },
        "id": "iDEAryiyZ89C",
        "outputId": "37c78424-99dd-43d3-b21c-b421ce349327"
      },
      "execution_count": 16,
      "outputs": [
        {
          "output_type": "execute_result",
          "data": {
            "text/plain": [
              "tensor(1.4979)"
            ]
          },
          "metadata": {},
          "execution_count": 16
        }
      ]
    },
    {
      "cell_type": "code",
      "source": [
        "def cross_entropy(y_hat, y):\n",
        "    return -torch.sum(y * torch.log(y_hat))/y.shape[0]"
      ],
      "metadata": {
        "id": "fhM1mrNTZ8yQ"
      },
      "execution_count": 17,
      "outputs": []
    },
    {
      "cell_type": "markdown",
      "source": [
        "## Autograd\n",
        "モデルをトレーニングするとき、我々は、すべてのトレーニング例にわたる総損失を最小にするパラメータ（Θと表記する）を見つけたい。\n",
        " )を見つけたい。\n",
        "\n",
        "$$\\Theta = \\operatorname*{argmin}_{\\Theta}\\  L(\\Theta).$$  \n",
        "\n",
        "そのために、損失関数を漸進的に下げる方向にパラメータを更新することで、繰り返し誤差を減らしていく。このアルゴリズムは勾配降下と呼ばれる。勾配降下の最も素朴な応用は、損失関数の導関数を取ることである。その方法を見てみよう。"
      ],
      "metadata": {
        "id": "qlV5FZDSB51h"
      }
    },
    {
      "cell_type": "code",
      "source": [
        "x = torch.arange(4.0)\n",
        "x"
      ],
      "metadata": {
        "id": "cZe4eoqvB84c",
        "colab": {
          "base_uri": "https://localhost:8080/"
        },
        "outputId": "878d0807-b133-45ab-f144-ce5bd75d3a95"
      },
      "execution_count": 18,
      "outputs": [
        {
          "output_type": "execute_result",
          "data": {
            "text/plain": [
              "tensor([0., 1., 2., 3.])"
            ]
          },
          "metadata": {},
          "execution_count": 18
        }
      ]
    },
    {
      "cell_type": "code",
      "source": [
        "print(x.grad)"
      ],
      "metadata": {
        "colab": {
          "base_uri": "https://localhost:8080/"
        },
        "id": "HchR-1ROLah5",
        "outputId": "eaf6824a-3df7-47c0-f668-c1f1c282871d"
      },
      "execution_count": 19,
      "outputs": [
        {
          "output_type": "stream",
          "name": "stdout",
          "text": [
            "None\n"
          ]
        }
      ]
    },
    {
      "cell_type": "code",
      "source": [
        "x.requires_grad_(True)\n",
        "print(x.grad)"
      ],
      "metadata": {
        "colab": {
          "base_uri": "https://localhost:8080/"
        },
        "id": "o2_XXXxhLMwo",
        "outputId": "43847d50-6a91-4779-fa58-d6ff1103ff64"
      },
      "execution_count": 20,
      "outputs": [
        {
          "output_type": "stream",
          "name": "stdout",
          "text": [
            "None\n"
          ]
        }
      ]
    },
    {
      "cell_type": "code",
      "source": [
        "y = 2 * torch.dot(x,x)\n",
        "y"
      ],
      "metadata": {
        "colab": {
          "base_uri": "https://localhost:8080/"
        },
        "id": "po_EU1F6LMt1",
        "outputId": "9914afe5-7d8d-4720-edde-689cd8013d05"
      },
      "execution_count": 21,
      "outputs": [
        {
          "output_type": "execute_result",
          "data": {
            "text/plain": [
              "tensor(28., grad_fn=<MulBackward0>)"
            ]
          },
          "metadata": {},
          "execution_count": 21
        }
      ]
    },
    {
      "cell_type": "markdown",
      "source": [
        "𝐱は長さ4のベクトルなので、 𝐱 の内積は\n",
        "  スカラー出力が得られる。\n",
        " 次に、𝑦の勾配を自動的に計算することができる。"
      ],
      "metadata": {
        "id": "Sj87n3QwMhU3"
      }
    },
    {
      "cell_type": "code",
      "source": [
        "y.backward()\n",
        "x.grad"
      ],
      "metadata": {
        "colab": {
          "base_uri": "https://localhost:8080/"
        },
        "id": "o_P-t9clLMkC",
        "outputId": "3a975ec9-87a5-467e-d135-363ac7746fee"
      },
      "execution_count": 22,
      "outputs": [
        {
          "output_type": "execute_result",
          "data": {
            "text/plain": [
              "tensor([ 0.,  4.,  8., 12.])"
            ]
          },
          "metadata": {},
          "execution_count": 22
        }
      ]
    },
    {
      "cell_type": "markdown",
      "source": [
        "関数𝑦=2𝐱⊤𝐱の勾配は4𝐱となる。目的の勾配が正しく計算されたことを素早く確認しましょう。"
      ],
      "metadata": {
        "id": "U3uI44JINJhq"
      }
    },
    {
      "cell_type": "code",
      "source": [
        "x.grad == 4 * x"
      ],
      "metadata": {
        "colab": {
          "base_uri": "https://localhost:8080/"
        },
        "id": "nHrCkrtdLMgY",
        "outputId": "477d4cb3-6f30-4c99-bbb9-0a146cb46dc0"
      },
      "execution_count": 23,
      "outputs": [
        {
          "output_type": "execute_result",
          "data": {
            "text/plain": [
              "tensor([True, True, True, True])"
            ]
          },
          "metadata": {},
          "execution_count": 23
        }
      ]
    },
    {
      "cell_type": "markdown",
      "source": [
        "### Excersize 5\n",
        "𝑓(𝑥)=sin(𝑥)について、\n",
        "𝑓(𝑥)と𝑑𝑓(𝑥)𝑑𝑥　をプロットする\n",
        "※後者は 𝑓′(𝑥)=cos(𝑥)を利用しない。"
      ],
      "metadata": {
        "id": "vNcAUg8eNZFs"
      }
    },
    {
      "cell_type": "markdown",
      "source": [],
      "metadata": {
        "id": "dQltuiLHQu42"
      }
    },
    {
      "cell_type": "code",
      "source": [
        "x = np.linspace(-np.pi,np.pi,100)\n",
        "x = torch.tensor(x, requires_grad=True)\n",
        "y = torch.sin(x)\n",
        "plt.plot(y.detach().numpy())\n",
        "loss = y.sum()\n",
        "loss.backward()\n",
        "plt.plot(x.grad)"
      ],
      "metadata": {
        "colab": {
          "base_uri": "https://localhost:8080/",
          "height": 448
        },
        "id": "I2wNoOgMLMcr",
        "outputId": "24ac766c-317e-4eff-f1cb-67aab33f6874"
      },
      "execution_count": 24,
      "outputs": [
        {
          "output_type": "execute_result",
          "data": {
            "text/plain": [
              "[<matplotlib.lines.Line2D at 0x7c83deabbee0>]"
            ]
          },
          "metadata": {},
          "execution_count": 24
        },
        {
          "output_type": "display_data",
          "data": {
            "text/plain": [
              "<Figure size 640x480 with 1 Axes>"
            ],
            "image/png": "[encoded data removed]"
          },
          "metadata": {}
        }
      ]
    },
    {
      "cell_type": "markdown",
      "source": [],
      "metadata": {
        "id": "22lXCqi4Qxbv"
      }
    },
    {
      "cell_type": "markdown",
      "source": [],
      "metadata": {
        "id": "zZgZDIqCQ7A2"
      }
    },
    {
      "cell_type": "markdown",
      "source": [
        "## Assiginment  \n",
        "これでPyTorchの基本は理解できただろう。  \n",
        "データパイプライン、線形モデル、損失関数、勾配降下オプティマイザなど、メソッド全体をゼロから実装してみよう。  \n",
        "最近のディープラーニングフレームワークは、これらの作業のほぼすべてを自動化することができるが、ゼロから実装することは、自分が何をしているのかを本当に理解していることを確認する唯一の方法である。  \n",
        "さらに、モデルをカスタマイズしたり、独自のレイヤーや損失関数を定義したりするときに、ボンネットの下でどのように動作するかを理解していると便利だ。  \n",
        "このセクションでは、テンソルと自動微分だけに頼ることにする。\n",
        "その後、ディープラーニング・フレームワークのベルやホイッスルを活用した、より簡潔な実装を紹介する。\n",
        "物事を単純にするために、加法的ノイズを持つ線形モデルに従って人工データセットを構築する。我々の課題は、データセットに含まれる有限の例集合を使って、このモデルのパラメータを回復することである。データを低次元に保ち、簡単に可視化できるようにする。以下のコードでは、それぞれ標準正規分布からサンプリングされた2つの特徴からなる、1000の例を含むデータセットを生成します。したがって、合成データセットは行列  \n",
        "$\\mathbf{X} \\in \\mathbb{R}^{1000 \\times 2}$."
      ],
      "metadata": {
        "id": "28Lr6fIUB-Ri"
      }
    },
    {
      "cell_type": "markdown",
      "source": [
        "データセットを生成する真のパラメータは $w$ =[2,-3.4]⊤ である。\n",
        "$s$=4.2\n",
        " 合成ラベルは、ノイズ項 $\\epsilon$:を持つ以下の線形モデルに従って割り当てられる。  \n",
        "\n",
        "$$\\mathbf{y}= \\mathbf{X} \\mathbf{w} + b + \\mathbf\\epsilon.$$"
      ],
      "metadata": {
        "id": "XBLqoq19Rxdn"
      }
    },
    {
      "cell_type": "code",
      "source": [
        "def synthetic_data(w,b,num_examles):\n",
        "    X = torch.normal(0,1,(num_examles,len(w)))\n",
        "    y = torch.matmul(X,w)+b\n",
        "    y += torch.normal(0,1,y.shape)\n",
        "    return X, y.reshape((-1,1))"
      ],
      "metadata": {
        "id": "QeB0ginFCGvA"
      },
      "execution_count": 44,
      "outputs": []
    },
    {
      "cell_type": "code",
      "source": [
        "true_w = torch.tensor([2,-3.4])\n",
        "true_b = 4.2\n",
        "features, labels = synthetic_data(true_w,true_b,1000)"
      ],
      "metadata": {
        "id": "72aV1zD31_zO"
      },
      "execution_count": 45,
      "outputs": []
    },
    {
      "cell_type": "code",
      "source": [
        "print(\"features\",features[0],\"\\nlabels\",labels[0])"
      ],
      "metadata": {
        "colab": {
          "base_uri": "https://localhost:8080/"
        },
        "id": "lfbbfNtG2cCC",
        "outputId": "363129ff-0978-4bf8-a027-bac2c0612ca1"
      },
      "execution_count": 46,
      "outputs": [
        {
          "output_type": "stream",
          "name": "stdout",
          "text": [
            "features tensor([0.0306, 0.0151]) \n",
            "labels tensor([5.5552])\n"
          ]
        }
      ]
    },
    {
      "cell_type": "code",
      "source": [
        "print(\"features shape\",features.shape,\"\\nlabels shape\",labels.shape)"
      ],
      "metadata": {
        "colab": {
          "base_uri": "https://localhost:8080/"
        },
        "id": "KrHNXHRV24dH",
        "outputId": "7befead2-20e9-4676-d510-d2d9f53c8082"
      },
      "execution_count": 47,
      "outputs": [
        {
          "output_type": "stream",
          "name": "stdout",
          "text": [
            "features shape torch.Size([1000, 2]) \n",
            "labels shape torch.Size([1000, 1])\n"
          ]
        }
      ]
    },
    {
      "cell_type": "markdown",
      "source": [
        "#### Reading Dataset\n",
        "モデルの学習は、データセットを何度も通過させ、一度に1つのミニバッチを取得し、それを使ってモデルを更新することである。このプロセスは機械学習アルゴリズムのトレーニングの基本なので、データセットをシャッフルしてミニバッチでアクセスするユーティリティ関数を定義する価値がある。\n",
        "\n",
        "以下のコードでは、data_iter関数を定義して、この機能の可能な実装の1つを示す。この関数は、バッチサイズ、特徴量の行列、ラベルのベクトルを受け取り、バッチサイズのミニバッチを生成する。各ミニバッチは、特徴とラベルのタプルで構成される。"
      ],
      "metadata": {
        "id": "yoYifzpY3RRv"
      }
    },
    {
      "cell_type": "code",
      "source": [
        "def data_iter(batch_size, features, labels):\n",
        "    num_examples = len(features)\n",
        "    indices = list(range(num_examples))\n",
        "    random.shuffle(indices)\n",
        "    for i in range(0,num_examples,batch_size):\n",
        "        batch_indices = torch.tensor(indices[i:min(i+batch_size,num_examples)])\n",
        "        yield features[batch_indices],labels[batch_indices]"
      ],
      "metadata": {
        "id": "NV7PSiFU3Dis"
      },
      "execution_count": 48,
      "outputs": []
    },
    {
      "cell_type": "markdown",
      "source": [
        "一般的に、並列処理が得意なGPUハードウェアを活用するために、適度な大きさのミニバッチを使用したいことに注意してください。GPUは並列処理に優れている。各例は並列にモデルを通過させることができ、各例に対する損失関数の勾配も並列に取ることができるため、GPUを使えば、1つの例を処理するのにかかる時間とほとんど変わらない時間で、数百の例を処理することができる。\n",
        "\n",
        "直感を養うために、最初の少量のデータ例を読んで印刷してみよう。各ミニバッチの特徴の形状から、ミニバッチのサイズと入力特徴の数がわかる。同様に、ラベルのミニバッチはbatch_sizeで与えられる形状を持つ。"
      ],
      "metadata": {
        "id": "b6sg6rYj5uon"
      }
    },
    {
      "cell_type": "code",
      "source": [
        "batch_size = 10\n",
        "for X,y in data_iter(batch_size,features,labels):\n",
        "    print(X,\"\\n\",y)\n",
        "    break"
      ],
      "metadata": {
        "colab": {
          "base_uri": "https://localhost:8080/"
        },
        "id": "L052pPPh3saT",
        "outputId": "4f6ba0d5-6d35-4579-dec9-b41a16a76325"
      },
      "execution_count": 49,
      "outputs": [
        {
          "output_type": "stream",
          "name": "stdout",
          "text": [
            "tensor([[-1.1500,  0.7226],\n",
            "        [-1.0277, -0.9919],\n",
            "        [-0.2841, -0.1064],\n",
            "        [-0.0679, -2.2454],\n",
            "        [ 1.2986, -0.7111],\n",
            "        [ 0.1076,  2.2007],\n",
            "        [-0.3311, -1.3217],\n",
            "        [ 0.3486,  0.5818],\n",
            "        [ 0.9562,  0.3075],\n",
            "        [ 1.2916, -1.6977]]) \n",
            " tensor([[-0.8846],\n",
            "        [ 4.4617],\n",
            "        [ 4.6612],\n",
            "        [11.1013],\n",
            "        [ 8.4052],\n",
            "        [-2.8027],\n",
            "        [ 8.3110],\n",
            "        [ 4.1519],\n",
            "        [ 4.5536],\n",
            "        [11.0025]])\n"
          ]
        }
      ]
    },
    {
      "cell_type": "markdown",
      "source": [
        "#### Initializing Model Parameters\n",
        "ミニバッチ確率勾配降下法によるモデルのパラメータの最適化を始める前に、まずパラメータが必要です。以下のコードでは、平均0、標準偏差0.01の正規分布から乱数をサンプリングして重みを初期化し、バイアスを0に設定します。"
      ],
      "metadata": {
        "id": "IhRU4McF6jFY"
      }
    },
    {
      "cell_type": "code",
      "source": [
        "w = None\n",
        "b = None\n",
        "w = torch.normal(0,0.01,size=(2,1),requires_grad=True)\n",
        "b = torch.zeros(1,requires_grad=True)"
      ],
      "metadata": {
        "id": "n_Djzvaw3t-u"
      },
      "execution_count": 50,
      "outputs": []
    },
    {
      "cell_type": "code",
      "source": [
        "type(torch.normal(0,0.01,size=(2,1)))"
      ],
      "metadata": {
        "colab": {
          "base_uri": "https://localhost:8080/"
        },
        "id": "2WuRVfbS7D6V",
        "outputId": "13ce5441-df80-48d4-beda-136ea12778bd"
      },
      "execution_count": 51,
      "outputs": [
        {
          "output_type": "execute_result",
          "data": {
            "text/plain": [
              "torch.Tensor"
            ]
          },
          "metadata": {},
          "execution_count": 51
        }
      ]
    },
    {
      "cell_type": "markdown",
      "source": [
        "#### Difining the Model  \n",
        "次に、モデルを定義し、その入力とパラメータをその出力に関連付けなければなりません。線形モデルの出力を計算するために、単純に入力特徴量𝐱とモデル重み𝐰の行列ベクトル積を取ることを思い出してください。\n",
        "  とモデルの重み 𝐰\n",
        "  を計算し、オフセット$b$を各例に加えます。\n",
        "  を各例に加えます。\n",
        "\n",
        "これは、練習問題3で実装したものと全く同じです。"
      ],
      "metadata": {
        "id": "C71ZtzYu88Rm"
      }
    },
    {
      "cell_type": "code",
      "source": [
        "def linear(X,W,b):\n",
        "\n",
        "    return torch.matmul(X,W)+b\n"
      ],
      "metadata": {
        "id": "day27r3h7nPi"
      },
      "execution_count": 52,
      "outputs": []
    },
    {
      "cell_type": "code",
      "source": [
        "X_ = torch.Tensor([[0.1, 0.2, 0.3]])\n",
        "W_ = torch.Tensor([[0.1, 0.2, 0.3]]).T\n",
        "b_ = torch.Tensor([-0.5])\n",
        "linear(X_,W_,b_)"
      ],
      "metadata": {
        "colab": {
          "base_uri": "https://localhost:8080/"
        },
        "id": "eFVgO6Sx-6RJ",
        "outputId": "ec629d59-1fbe-4992-af81-fc96baf8de1a"
      },
      "execution_count": 53,
      "outputs": [
        {
          "output_type": "execute_result",
          "data": {
            "text/plain": [
              "tensor([[-0.3600]])"
            ]
          },
          "metadata": {},
          "execution_count": 53
        }
      ]
    },
    {
      "cell_type": "markdown",
      "source": [
        "####Defining the Loss Function\n",
        "モデルを更新するには損失関数の勾配を取る必要があるので、まず損失関数を定義する必要がある。ここでは2乗損失関数を使う。  \n",
        "$$\n",
        "L^{(i)} = \\frac{1}{2} (\\hat{y}^{(i)}-y^{(i)})^2\n",
        "$$\n"
      ],
      "metadata": {
        "id": "2zaqSV5b94Tf"
      }
    },
    {
      "cell_type": "code",
      "source": [
        "def squared_loss(y_hat,y):\n",
        "    return ((y_hat-y.reshape(y_hat.shape))**2/2).mean()"
      ],
      "metadata": {
        "id": "2YLw2db99usG"
      },
      "execution_count": 54,
      "outputs": []
    },
    {
      "cell_type": "code",
      "source": [
        "y = torch.tensor([2, 0.4, 1.1, 2.1])\n",
        "y_hat = torch.tensor([[2.1, 0.3, 1.2, 2.5]])"
      ],
      "metadata": {
        "id": "eJ4Ekjvg-WTQ"
      },
      "execution_count": 55,
      "outputs": []
    },
    {
      "cell_type": "code",
      "source": [
        "squared_loss(y_hat,y)"
      ],
      "metadata": {
        "colab": {
          "base_uri": "https://localhost:8080/"
        },
        "id": "2ZYbDPhT_iry",
        "outputId": "38105222-b911-4100-9500-74ac8c6b9d80"
      },
      "execution_count": 56,
      "outputs": [
        {
          "output_type": "execute_result",
          "data": {
            "text/plain": [
              "tensor(0.0238)"
            ]
          },
          "metadata": {},
          "execution_count": 56
        }
      ]
    },
    {
      "cell_type": "markdown",
      "source": [
        "#### Defining the Optimizetion Algorithm\n",
        "線形回帰には閉形式解があるが、この機会にミニバッチ確率的勾配降下の最初の実例を紹介しよう。\n",
        "\n",
        "各ステップにおいて、データセットからランダムに引いた1つのミニバッチを使って、パラメータに対する損失の勾配を推定する。次に、損失を減らす方向にパラメータを更新する。以下のコードは、パラメータセット、学習率、バッチサイズが与えられると、ミニバッチ確率的勾配降下更新を適用する。更新ステップのサイズは学習率lrによって決定される。損失はミニバッチの例に対する合計として計算されるので、バッチサイズ(batch_size)によってステップサイズを正規化し、典型的なステップサイズの大きさがバッチサイズの選択に大きく依存しないようにします。"
      ],
      "metadata": {
        "id": "dpD2lLx5BtZP"
      }
    },
    {
      "cell_type": "code",
      "source": [
        "def sgd(params, lr, batch_size):\n",
        "    \"\"\"  Minibatch stochastic gradient descent \"\"\"\n",
        "    lr = lr / batch_size\n",
        "    with torch.no_grad():\n",
        "        for param in params:\n",
        "            \"\"\"\n",
        "            TODO: perform a step gradient descent\n",
        "                  param = param - lr * grad\n",
        "            \"\"\"\n",
        "            param -= lr * param.grad\n",
        "#             raise NotImplementedError\n",
        "            param.grad.zero_()"
      ],
      "metadata": {
        "id": "Z16WWAby_kHP"
      },
      "execution_count": 57,
      "outputs": []
    },
    {
      "cell_type": "markdown",
      "source": [
        "#### Training\n",
        "これですべてのパーツが揃ったので、メインのトレーニング・ループを実装する準備ができた。ディープラーニングのキャリアを通じて、ほぼ同じトレーニングループを何度も何度も見ることになるので、このコードを理解することは非常に重要だ。\n",
        "\n",
        "各反復で、トレーニング例のミニバッチを取得し、予測セットを得るためにモデルに通します。損失を計算した後、ネットワークを通して後方パスを開始し、各パラメータに関する勾配を保存する。最後に、最適化アルゴリズム sgd を呼び出して、モデルパラメータを更新します。"
      ],
      "metadata": {
        "id": "PoEx5QrpERoK"
      }
    },
    {
      "cell_type": "code",
      "source": [
        "lr = 0.03\n",
        "num_epochs = 20\n",
        "net = linear\n",
        "loss = squared_loss\n",
        "loss_list=[]\n",
        "for epoch in range(num_epochs):\n",
        "    for X, y in data_iter(batch_size, features, labels):\n",
        "        l = loss(net(X, w, b), y)  # Minibatch loss in `X` and `y`\n",
        "        # Compute gradient on `l` with respect to [`w`, `b`]\n",
        "        l.backward()\n",
        "        sgd([w, b], lr, batch_size)  # Update parameters using their gradient\n",
        "    with torch.no_grad():\n",
        "        train_l = loss(net(features, w, b), labels)\n",
        "        loss_list.append(float(train_l.mean()))\n",
        "        print(f'epoch {epoch + 1}, loss {float(train_l.mean()):f}')"
      ],
      "metadata": {
        "colab": {
          "base_uri": "https://localhost:8080/"
        },
        "id": "xqS3Ytc5_q9l",
        "outputId": "f39d4c6f-c66c-4e59-95eb-70d94499d6dc"
      },
      "execution_count": 58,
      "outputs": [
        {
          "output_type": "stream",
          "name": "stdout",
          "text": [
            "epoch 1, loss 9.711597\n",
            "epoch 2, loss 5.604959\n",
            "epoch 3, loss 3.334260\n",
            "epoch 4, loss 2.080309\n",
            "epoch 5, loss 1.388042\n",
            "epoch 6, loss 1.005036\n",
            "epoch 7, loss 0.793045\n",
            "epoch 8, loss 0.676391\n",
            "epoch 9, loss 0.612118\n",
            "epoch 10, loss 0.575896\n",
            "epoch 11, loss 0.556079\n",
            "epoch 12, loss 0.544983\n",
            "epoch 13, loss 0.538864\n",
            "epoch 14, loss 0.535591\n",
            "epoch 15, loss 0.533765\n",
            "epoch 16, loss 0.532712\n",
            "epoch 17, loss 0.532193\n",
            "epoch 18, loss 0.531886\n",
            "epoch 19, loss 0.531689\n",
            "epoch 20, loss 0.531606\n"
          ]
        }
      ]
    },
    {
      "cell_type": "code",
      "source": [
        "x_label = np.arange(20)\n",
        "plt.plot(loss_list)\n",
        "plt.xticks(x_label)\n",
        "plt.xlabel(\"epoch\")\n",
        "plt.ylabel(\"loss\")\n",
        "plt.show()"
      ],
      "metadata": {
        "colab": {
          "base_uri": "https://localhost:8080/",
          "height": 449
        },
        "id": "fg0qvYJrHhVE",
        "outputId": "5a4bbf67-7aad-42c5-b285-44cc10d609f8"
      },
      "execution_count": 65,
      "outputs": [
        {
          "output_type": "display_data",
          "data": {
            "text/plain": [
              "<Figure size 640x480 with 1 Axes>"
            ],
            "image/png": "[encoded data removed]"
          },
          "metadata": {}
        }
      ]
    },
    {
      "cell_type": "code",
      "source": [
        "print(f'error in estimating w: {true_w - w.reshape(true_w.shape)}')\n",
        "print(f'error in estimating b: {true_b - b}')"
      ],
      "metadata": {
        "colab": {
          "base_uri": "https://localhost:8080/"
        },
        "id": "6CaDxFyJF1B2",
        "outputId": "75e4d4d7-113d-453e-b2b6-8cf4c121f1f5"
      },
      "execution_count": 49,
      "outputs": [
        {
          "output_type": "stream",
          "name": "stdout",
          "text": [
            "error in estimating w: tensor([-0.0093,  0.0565], grad_fn=<SubBackward0>)\n",
            "error in estimating b: tensor([0.0048], grad_fn=<RsubBackward1>)\n"
          ]
        }
      ]
    },
    {
      "cell_type": "code",
      "source": [
        "'''\n",
        "AUTOGRADER CELL. DO NOT MODIFY THIS.\n",
        "'''\n",
        "\n",
        "assert (true_w - w.reshape(true_w.shape)).abs().mean() < 0.05\n",
        "assert (true_b - b).abs() < 0.05\n",
        "\n"
      ],
      "metadata": {
        "id": "F8GueFAJGhus"
      },
      "execution_count": 50,
      "outputs": []
    },
    {
      "cell_type": "code",
      "source": [],
      "metadata": {
        "id": "9MD_jitoGlCH"
      },
      "execution_count": 50,
      "outputs": []
    }
  ]
}