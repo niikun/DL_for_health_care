{
  "nbformat": 4,
  "nbformat_minor": 0,
  "metadata": {
    "colab": {
      "provenance": [],
      "toc_visible": true,
      "authorship_tag": "ABX9TyMJ7HUBAgVzQicoZg54Yc+h",
      "include_colab_link": true
    },
    "kernelspec": {
      "name": "python3",
      "display_name": "Python 3"
    },
    "language_info": {
      "name": "python"
    }
  },
  "cells": [
    {
      "cell_type": "markdown",
      "metadata": {
        "id": "view-in-github",
        "colab_type": "text"
      },
      "source": [
        "<a href=\"https://colab.research.google.com/github/niikun/DL_for_health_care/blob/main/np_recarray.ipynb\" target=\"_parent\"><img src=\"https://colab.research.google.com/assets/colab-badge.svg\" alt=\"Open In Colab\"/></a>"
      ]
    },
    {
      "cell_type": "markdown",
      "source": [
        "# recarray\n",
        "\n",
        "numpy.recarrayは、NumPyライブラリの一部であり、構造化配列（structured array）の一種です。  \n",
        "recarrayは「レコード配列」の略であり、フィールド名を使用して配列の各フィールドにアクセスできる点が特徴です。   \n",
        "通常のNumPy配列とは異なり、各要素が異なるデータ型を持つことができます。  \n",
        "これにより、表形式のデータをより柔軟に扱うことができます。  \n",
        "※通常のNumPyの配列（numpy.array）は、同じデータ型の要素を効率的に処理するために設計されています。これは数値計算や大量のデータを扱う場合に非常に便利です。しかし、この制限により、異なるデータ型を含むデータを同じ配列で扱うことはできません。"
      ],
      "metadata": {
        "id": "psDYAQMnQGRf"
      }
    },
    {
      "cell_type": "markdown",
      "source": [
        "例えば、学校のクラスの生徒の名前、年齢、身長をまとめて管理することができます。普通のリストや配列（アレイ）と違って、recarrayは違う種類のデータを一緒にまとめることができるのが特徴です。\n",
        "## 簡単な例  \n",
        "クラスにAlice,Bob,Charlieという生徒がいるとします。それぞれの名前、年齢、体重を管理したいとき、recarrayを使うと次のようにできます。\n",
        "\n",
        "\n"
      ],
      "metadata": {
        "id": "M7Vg68RtQquc"
      }
    },
    {
      "cell_type": "code",
      "source": [],
      "metadata": {
        "id": "1sAWrkbEXN4o"
      },
      "execution_count": null,
      "outputs": []
    },
    {
      "cell_type": "markdown",
      "source": [
        "### Step1.インポート"
      ],
      "metadata": {
        "id": "sLuoUmMNXEH-"
      }
    },
    {
      "cell_type": "code",
      "source": [
        "import numpy as np"
      ],
      "metadata": {
        "id": "iaRzX1RYRuhV"
      },
      "execution_count": 1,
      "outputs": []
    },
    {
      "cell_type": "markdown",
      "source": [
        "###Step.2 データの作成"
      ],
      "metadata": {
        "id": "FV5SXXkDRoUa"
      }
    },
    {
      "cell_type": "code",
      "source": [],
      "metadata": {
        "id": "KpY5oW_4SkXx"
      },
      "execution_count": null,
      "outputs": []
    },
    {
      "cell_type": "code",
      "execution_count": 3,
      "metadata": {
        "id": "TpjOpXKxQAAj"
      },
      "outputs": [],
      "source": [
        "data = [\n",
        "    ('Alice', 10, 30.5),\n",
        "    ('Bob', 12, 35.3),\n",
        "    ('Charlie', 11, 32.1)\n",
        "]"
      ]
    },
    {
      "cell_type": "markdown",
      "source": [
        "### Step3. データの種類を決める  \n",
        "それぞれのデータが何の種類か（名前は文字、年齢は数字、体重も数字）を決めます。  \n",
        "- nameフィールド:   \n",
        "'U10'は、長さ10までのUnicode文字列を表します。名前を文字列として保存します。\n",
        "- ageフィールド:   \n",
        "'i4'は、4バイトの整数を表します。年齢を整数として保存します。\n",
        "- weightフィールド:   \n",
        "'f4'は、4バイトの浮動小数点数を表します。体重を小数点付きの数値として保存します。"
      ],
      "metadata": {
        "id": "dE2mqvr8R38K"
      }
    },
    {
      "cell_type": "code",
      "source": [
        "# データの種類を定義\n",
        "dtype = [('name', 'U10'), ('age', 'i4'), ('weight', 'f4')]"
      ],
      "metadata": {
        "id": "7uZ_0plRRyUg"
      },
      "execution_count": 4,
      "outputs": []
    },
    {
      "cell_type": "markdown",
      "source": [
        "###Step4.recarrayを作る  \n",
        "recarrayを作って、データを入れます。"
      ],
      "metadata": {
        "id": "S7X4xG3SS52B"
      }
    },
    {
      "cell_type": "code",
      "source": [
        "array = np.array(data,dtype=dtype)\n",
        "array"
      ],
      "metadata": {
        "colab": {
          "base_uri": "https://localhost:8080/"
        },
        "id": "N3RFfq4vS2kv",
        "outputId": "7ce791c6-2c0c-4003-cfd9-8cfe9e6131f8"
      },
      "execution_count": 8,
      "outputs": [
        {
          "output_type": "execute_result",
          "data": {
            "text/plain": [
              "array([('Alice', 10, 30.5), ('Bob', 12, 35.3), ('Charlie', 11, 32.1)],\n",
              "      dtype=[('name', '<U10'), ('age', '<i4'), ('weight', '<f4')])"
            ]
          },
          "metadata": {},
          "execution_count": 8
        }
      ]
    },
    {
      "cell_type": "code",
      "source": [
        "# recarrayの作成\n",
        "rec_array = np.array(data, dtype=dtype).view(np.recarray)\n",
        "rec_array"
      ],
      "metadata": {
        "colab": {
          "base_uri": "https://localhost:8080/"
        },
        "id": "Hwabe1KHTLa7",
        "outputId": "ea65c843-5e08-4447-8f3b-9eeb7fbc1b4e"
      },
      "execution_count": 10,
      "outputs": [
        {
          "output_type": "execute_result",
          "data": {
            "text/plain": [
              "rec.array([('Alice', 10, 30.5), ('Bob', 12, 35.3), ('Charlie', 11, 32.1)],\n",
              "          dtype=[('name', '<U10'), ('age', '<i4'), ('weight', '<f4')])"
            ]
          },
          "metadata": {},
          "execution_count": 10
        }
      ]
    },
    {
      "cell_type": "markdown",
      "source": [
        "### Step5.データを使ってみる  \n",
        "作ったrecarrayからデータを取り出して使います。"
      ],
      "metadata": {
        "id": "0XlAnSleVc4g"
      }
    },
    {
      "cell_type": "code",
      "source": [
        "# 名前、年齢、体重を表示\n",
        "print(f\"Names: {rec_array.name}\")   # 名前: ['Alice' 'Bob' 'Charlie']\n",
        "print(f\"Ages: {rec_array.age}\")     # 年齢: [10 12 11]\n",
        "print(f\"Weights: {rec_array.weight}\") # 体重: [30.5 35.3 32.1]\n",
        "\n",
        "# 例えば、年齢が12歳以上の人の名前を知りたいとき\n",
        "older_than_11 = rec_array[rec_array.age > 11]\n",
        "print(f\"Older than 11: {older_than_11.name}\")  # 12歳以上: ['Bob']\n"
      ],
      "metadata": {
        "colab": {
          "base_uri": "https://localhost:8080/"
        },
        "id": "_iyAxvlbTf2w",
        "outputId": "c4c72ede-fd3b-44db-afdc-417651ef7314"
      },
      "execution_count": 15,
      "outputs": [
        {
          "output_type": "stream",
          "name": "stdout",
          "text": [
            "Names: ['Alice' 'Bob' 'Charlie']\n",
            "Ages: [10 12 11]\n",
            "Weights: [30.5 35.3 32.1]\n",
            "Older than 11: ['Bob']\n"
          ]
        }
      ]
    },
    {
      "cell_type": "markdown",
      "source": [
        "## 構造化配列の例\n",
        "構造化配列を使うと、異なるデータ型を同じ配列に含めることができます。"
      ],
      "metadata": {
        "id": "5ts2oPI5Vu5c"
      }
    },
    {
      "cell_type": "code",
      "source": [
        "import numpy as np\n",
        "\n",
        "# データとデータ型の定義\n",
        "data = [\n",
        "    ('Alice', 10, 30.5),\n",
        "    ('Bob', 12, 35.3),\n",
        "    ('Charlie', 11, 32.1)\n",
        "]\n",
        "dtype = [('name', 'U10'), ('age', 'i4'), ('weight', 'f4')]\n",
        "\n",
        "# 構造化配列の作成\n",
        "structured_array = np.array(data, dtype=dtype)\n",
        "\n",
        "# フィールドへのアクセス\n",
        "print(structured_array['name'])   # ['Alice' 'Bob' 'Charlie']\n",
        "print(structured_array['age'])    # [10 12 11]\n",
        "print(structured_array['weight']) # [30.5 35.3 32.1]\n"
      ],
      "metadata": {
        "colab": {
          "base_uri": "https://localhost:8080/"
        },
        "id": "1CzKmle0TtzF",
        "outputId": "c76fa340-28dc-4899-e0cb-3389b7ca5826"
      },
      "execution_count": 16,
      "outputs": [
        {
          "output_type": "stream",
          "name": "stdout",
          "text": [
            "['Alice' 'Bob' 'Charlie']\n",
            "[10 12 11]\n",
            "[30.5 35.3 32.1]\n"
          ]
        }
      ]
    },
    {
      "cell_type": "markdown",
      "source": [
        "### 構造化配列（structured array）とレコード配列（recarray）の違い\n",
        "どちらもNumPyで異なるデータ型を持つデータを扱うための手法です。主な違いは、アクセス方法と機能にあります。\n",
        "\n",
        "#### 構造化配列（structured array）\n",
        "構造化配列は、異なるデータ型を持つ複数のフィールドを持つ配列です。フィールド名でデータにアクセスすることができますが、通常のNumPy配列と同様の方法で操作されます。\n",
        "\n",
        "- 特徴\n",
        "  - フィールド名でアクセス: 各フィールドにフィールド名を使ってアクセスできます。\n",
        "  - 通常のNumPy配列と同じ操作: 通常のNumPy配列と同じようにスライスやブールインデックスを使った操作が可能です。"
      ],
      "metadata": {
        "id": "QsxSmY2aWLw7"
      }
    },
    {
      "cell_type": "code",
      "source": [
        "import numpy as np\n",
        "\n",
        "# データとデータ型の定義\n",
        "data = [\n",
        "    ('Alice', 10, 30.5),\n",
        "    ('Bob', 12, 35.3),\n",
        "    ('Charlie', 11, 32.1)\n",
        "]\n",
        "dtype = [('name', 'U10'), ('age', 'i4'), ('weight', 'f4')]\n",
        "\n",
        "# 構造化配列の作成\n",
        "structured_array = np.array(data, dtype=dtype)\n",
        "\n",
        "# フィールドへのアクセス\n",
        "print(structured_array['name'])   # ['Alice' 'Bob' 'Charlie']\n",
        "print(structured_array['age'])    # [10 12 11]\n",
        "print(structured_array['weight']) # [30.5 35.3 32.1]\n"
      ],
      "metadata": {
        "colab": {
          "base_uri": "https://localhost:8080/"
        },
        "id": "TG6PNWRwT57b",
        "outputId": "d89cab05-cd20-403e-b0d6-9db8ebfdf2b7"
      },
      "execution_count": 17,
      "outputs": [
        {
          "output_type": "stream",
          "name": "stdout",
          "text": [
            "['Alice' 'Bob' 'Charlie']\n",
            "[10 12 11]\n",
            "[30.5 35.3 32.1]\n"
          ]
        }
      ]
    },
    {
      "cell_type": "markdown",
      "source": [
        "### レコード配列（recarray）\n",
        "レコード配列は構造化配列の特別な形式で、フィールド名に加えて属性（属性アクセス）としてもフィールドにアクセスできるようにするものです。これにより、コードの可読性が向上します。\n",
        "\n",
        "- 特徴\n",
        "  - フィールド名でのアクセス: 構造化配列と同様にフィールド名でアクセスできます。\n",
        "  - 属性アクセス: フィールド名を属性として使ってアクセスできます（ドット表記）。"
      ],
      "metadata": {
        "id": "bOE0FF8FWns5"
      }
    },
    {
      "cell_type": "code",
      "source": [
        "import numpy as np\n",
        "\n",
        "# データとデータ型の定義\n",
        "data = [\n",
        "    ('Alice', 10, 30.5),\n",
        "    ('Bob', 12, 35.3),\n",
        "    ('Charlie', 11, 32.1)\n",
        "]\n",
        "dtype = [('name', 'U10'), ('age', 'i4'), ('weight', 'f4')]\n",
        "\n",
        "# レコード配列の作成\n",
        "rec_array = np.array(data, dtype=dtype).view(np.recarray)\n",
        "\n",
        "# フィールドへのアクセス（フィールド名）\n",
        "print(rec_array['name'])   # ['Alice' 'Bob' 'Charlie']\n",
        "print(rec_array['age'])    # [10 12 11]\n",
        "print(rec_array['weight']) # [30.5 35.3 32.1]\n",
        "\n",
        "# フィールドへのアクセス（属性アクセス）\n",
        "print(rec_array.name)   # ['Alice' 'Bob' 'Charlie']\n",
        "print(rec_array.age)    # [10 12 11]\n",
        "print(rec_array.weight) # [30.5 35.3 32.1]\n"
      ],
      "metadata": {
        "colab": {
          "base_uri": "https://localhost:8080/"
        },
        "id": "p1M3ROxiWjy_",
        "outputId": "a0f830fe-bae5-496c-ee60-b6c0821c0cd7"
      },
      "execution_count": 18,
      "outputs": [
        {
          "output_type": "stream",
          "name": "stdout",
          "text": [
            "['Alice' 'Bob' 'Charlie']\n",
            "[10 12 11]\n",
            "[30.5 35.3 32.1]\n",
            "['Alice' 'Bob' 'Charlie']\n",
            "[10 12 11]\n",
            "[30.5 35.3 32.1]\n"
          ]
        }
      ]
    },
    {
      "cell_type": "code",
      "source": [],
      "metadata": {
        "id": "ce7y6C6HWzMx"
      },
      "execution_count": null,
      "outputs": []
    }
  ]
}